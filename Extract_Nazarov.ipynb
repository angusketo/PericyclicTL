{
 "cells": [
  {
   "cell_type": "code",
   "execution_count": null,
   "metadata": {},
   "outputs": [],
   "source": [
    "import pandas as pd\n",
    "import numpy as np\n",
    "import os,copy,itertools,ast\n",
    "from rdkit import Chem\n",
    "from rdkit.Chem import Descriptors\n",
    "from rdkit.Chem.rdchem import Mol"
   ]
  },
  {
   "cell_type": "code",
   "execution_count": null,
   "metadata": {},
   "outputs": [],
   "source": [
    "### Where reaxys file is stored\n",
    "# ==================\n",
    "reaxys_csv = 'datafiles/nazarov_reaxys.csv'\n",
    "# ==================\n",
    "\n",
    "for d in ['datafiles','tempfiles','outputfiles']:\n",
    "    if not os.path.isdir(d):\n",
    "        os.mkdir(d)"
   ]
  },
  {
   "cell_type": "code",
   "execution_count": null,
   "metadata": {},
   "outputs": [],
   "source": [
    "def clean_smiles(smiles:str):\n",
    "    \"\"\"Return santiized SMILES\"\"\"\n",
    "    return Chem.MolToSmiles(Chem.MolFromSmiles(smiles))\n",
    "\n",
    "def clean_rxn_smiles(rxn_smiles:str):\n",
    "    \"\"\"Return santiized SMILES for a reaction\"\"\"\n",
    "    reactants,products = rxn_smiles.split('>>')\n",
    "    if Chem.MolFromSmiles(reactants) is None: ### Skip over examples that RDKit cannot recognize\n",
    "        return np.nan\n",
    "    return f\"\"\"{'.'.join([clean_smiles(x) for x in reactants.split('.')])}>>{'.'.join([clean_smiles(x) for x in products.split('.')])}\"\"\"\n"
   ]
  },
  {
   "cell_type": "markdown",
   "metadata": {},
   "source": [
    "# 1) Data loading, blank rxn removal, cleaning of rxn column, and prep of yield column"
   ]
  },
  {
   "cell_type": "code",
   "execution_count": null,
   "metadata": {
    "scrolled": true
   },
   "outputs": [],
   "source": [
    "### Read CSV and drop NAs\n",
    "df_reaxys = pd.read_csv(reaxys_csv)\n",
    "print(df_reaxys.shape,'Shape of CSV')\n",
    "df_reaxys = df_reaxys.dropna(subset=['Reaction'])\n",
    "print(df_reaxys.shape,'Shape after nan removal for Reaction column')\n",
    "\n",
    "### Sanitize (clean) SMILES and remove any with invalid SMILES. Convert yields to floats. \n",
    "df_reaxys['rxn_clean_ReaxysOrder'] = df_reaxys.apply (lambda row: clean_rxn_smiles(row['Reaction']), axis=1)\n",
    "df_reaxys['yield_list'] = df_reaxys.apply (lambda row: [float(x) for x in str(row['Yield (numerical)']).split(';')], axis=1)\n",
    "df_reaxys = df_reaxys.dropna(subset=['rxn_clean_ReaxysOrder'])\n",
    "print(df_reaxys.shape,'Shape after nan removal for rxn_clean_ReaxysOrder column')\n",
    "\n",
    "df_reaxys"
   ]
  },
  {
   "cell_type": "markdown",
   "metadata": {},
   "source": [
    "4812 rows × 43 columns\n",
    "# 2) Identify Major Product and Reactants\n",
    "## 2.1) X Products or Yield"
   ]
  },
  {
   "cell_type": "code",
   "execution_count": null,
   "metadata": {},
   "outputs": [],
   "source": [
    "# ==================\n",
    "num_prods = 1\n",
    "# ==================\n",
    "\n",
    "def get_mp_numORyield(rxn_smiles:str,yields:list,num_prods:int=1):\n",
    "    \"\"\"Return list of major product/s. Sort products by their yield, if available.\"\"\"\n",
    "    reactants,products = rxn_smiles.split('>>')\n",
    "    reactants = reactants.split('.')\n",
    "    products = products.split('.')\n",
    "    products = [x for x in products if x not in reactants] ### Remove reagents that do not change through rxn\n",
    "    prod_set = set()\n",
    "    products = [x for x in products if not(x in prod_set or prod_set.add(x))] ### Remove any repeated products\n",
    "    ### Return product lists if yield available\n",
    "    if len(products) == num_prods:\n",
    "        ### Return the list of products if it matches the num_prods count\n",
    "        return [clean_smiles(products[x]) for x in range(0,num_prods)] \n",
    "    if len(yields) == len(products):\n",
    "        ### Sort products in order of decreasing yield, keep num_prods number of products in list\n",
    "        return [clean_smiles(x[1]) for x in sorted(zip(yields,products),reverse=True)[0:num_prods]]\n",
    "    else:\n",
    "        ### Return a list of products if there is no yield information to use\n",
    "        return products\n",
    "\n",
    "df_reaxys_mp = copy.copy(df_reaxys)\n",
    "df_reaxys_mp['major_product_clean'] = df_reaxys_mp.apply (lambda row: get_mp_numORyield(row['rxn_clean_ReaxysOrder'],row['yield_list'],1), axis=1)\n",
    "print(f\"\"\"Reactions with one product {len([x for x in df_reaxys_mp['major_product_clean'].to_list() if len(x) != 1])}\"\"\")\n",
    "df_reaxys_mp.to_csv('tempfiles/df_reaxys_mp.csv',index=False)"
   ]
  },
  {
   "cell_type": "code",
   "execution_count": null,
   "metadata": {},
   "outputs": [],
   "source": [
    "### This cell can be skipped\n",
    "### This checks how many reactions are missing the major product, assuming that num_prods=1 in the above cell\n",
    "df_id_check = copy.copy(df_reaxys_mp)\n",
    "my_cols = list(df_id_check.columns.values)\n",
    "df_id_check['major_product_clean_len'] = df_id_check.apply (lambda row: len(row['major_product_clean']), axis=1)\n",
    "df_id_check = df_id_check[df_id_check.major_product_clean_len != 1]\n",
    "df_id_check = df_id_check.drop_duplicates(subset='Reaction ID')\n",
    "print(f'Missing major product for {df_id_check.shape[0]} reactions')"
   ]
  },
  {
   "cell_type": "markdown",
   "metadata": {},
   "source": [
    "## 2.2) Get possible RXNs, ex: atom economy"
   ]
  },
  {
   "cell_type": "code",
   "execution_count": null,
   "metadata": {},
   "outputs": [],
   "source": [
    "def get_rxns_AE(rxn_smiles:str,product_list:list,num_prods:int=1):\n",
    "    \"\"\"Return list of reaction SMILES that satisfy atom economy (<0.1 AMU difference between\n",
    "    reactant and product mass)\"\"\"\n",
    "    reactants,products = rxn_smiles.split('>>')\n",
    "    reactants = reactants.split('.')\n",
    "    \n",
    "    if len(product_list) == 1: ### If major product was already found, create a reaction for it\n",
    "        ### If 1 major product, create reaction SMILES for each reactant. \n",
    "        ### Only keep reactions if the difference in mass between reactant and product is less than 0.1 AMU\n",
    "        return [f'{x}>>{product_list[0]}' for x in reactants if abs(Descriptors.MolWt(Chem.MolFromSmiles(x))-Descriptors.MolWt(Chem.MolFromSmiles(product_list[0])))<0.1]\n",
    "    else:\n",
    "        ### If multiple products, form reaction SMILES for each reactant and product combination\n",
    "        ### Only return those whose reactant product mass difference is less than 0.1 AMU\n",
    "        prod_react_combos = [[f'{x[0]}>>{x[1]}',abs(Descriptors.MolWt(Chem.MolFromSmiles(x[0]))-Descriptors.MolWt(Chem.MolFromSmiles(x[1])))] for x in itertools.product(reactants,product_list)]\n",
    "        return [x[0] for x in prod_react_combos if x[1]<0.1]\n",
    "    \n",
    "\n",
    "df_reaxys_mp_AE = copy.copy(df_reaxys_mp)\n",
    "df_reaxys_mp_AE['possible_rxns'] = df_reaxys_mp_AE.apply (lambda row: get_rxns_AE(row.['rxn_clean_ReaxysOrder'],row['major_product_clean']), axis=1)\n",
    "print(df_reaxys_mp_AE.shape)\n",
    "df_reaxys_mp_AE.to_csv('tempfiles/df_reaxys_mp_AE.csv',index=False)"
   ]
  },
  {
   "cell_type": "markdown",
   "metadata": {},
   "source": [
    "## 2.3) Verify reactions"
   ]
  },
  {
   "cell_type": "code",
   "execution_count": null,
   "metadata": {},
   "outputs": [],
   "source": [
    "def verify_nazarov(possible_rxns:list):\n",
    "    \"\"\"Verify Nazarov reactions by first checking for bonding patterns and then\n",
    "    checking that the change in bonds between reactants and products is reasonable.\"\"\"\n",
    "    filtered_rxns = []\n",
    "    for rxn in possible_rxns:\n",
    "        reactants,products = rxn.split('>>')\n",
    "        rmol = Chem.MolFromSmiles(reactants)\n",
    "        if rmol is None:\n",
    "            continue\n",
    "        pmol = Chem.MolFromSmiles(products)\n",
    "        \n",
    "        ### Check 1: Detect bonding pattern and verify atoms\n",
    "        sub_struc_matches = []\n",
    "        ### Patterns allow for aromatic and double bonds\n",
    "        patterns = ['[C,c]:[C,c]-[C,c]-[C,c]:[C,c]','[C,c]=[C,c]-[C,c]-[C,c]=[C,c]','[C,c]=[C,c]-[C,c]-[C,c]:[C,c]','[C,c]=[C,c]-[C,c]-[C,c]:[C,c]']\n",
    "        for x in patterns:\n",
    "            sub_struc_matches += list(rmol.GetSubstructMatches(Chem.MolFromSmarts(x)))\n",
    "        final_rc = [] \n",
    "        for rc in sub_struc_matches:\n",
    "            ### Skip repeat reaction centres or reaction centres in reverse order: 1,2==2,1\n",
    "            if sorted(rc) and rc not in final_rc:\n",
    "                ## If the middle atom is not SP2, cannot undergo Nazarov.\n",
    "                ## Since pattern checks for carbon atoms, ensure that the middle atom is double bonded to a heavy atom (somewhat redundant)\n",
    "                if str(rmol.GetAtomWithIdx(rc[2]).GetHybridization()) == 'SP2' and 1 not in [x.GetAtomicNum() for x in rmol.GetAtomWithIdx(rc[2]).GetNeighbors()]: \n",
    "                    final_rc.append(rc)         \n",
    "        if len(final_rc) == 0:\n",
    "            continue ### No reaction centres detected\n",
    "                      \n",
    "        ### Check 2: Detect bond change: -1 double bond, +1 single bond\n",
    "        if len([x for x in rmol.GetBonds() if str(x.GetBondType()) == 'DOUBLE' or str(x.GetBondType()) == 'AROMATIC']) - len([x for x in pmol.GetBonds() if str(x.GetBondType()) == 'DOUBLE' or str(x.GetBondType()) == 'AROMATIC']) != 1: \n",
    "            continue\n",
    "        if len([x for x in pmol.GetBonds() if str(x.GetBondType()) == 'SINGLE']) - len([x for x in rmol.GetBonds() if str(x.GetBondType()) == 'SINGLE']) != 2: \n",
    "            ### If the product does not have 2 more single bonds (bond forming and double bond that dissapears), reaction is invalid\n",
    "            continue\n",
    "\n",
    "        ### Check 3: RXNMapper Atom Mapping (Not shown as calculations and separate workflow required)\n",
    "        filtered_rxns.append(rxn)\n",
    "    return filtered_rxns\n",
    "        \n",
    "\n",
    "df_reaxys_mp_AE_rxn = copy.copy(df_reaxys_mp_AE)\n",
    "df_reaxys_mp_AE_rxn['possible_rxns_verified'] = df_reaxys_mp_AE_rxn.apply (lambda row: verify_nazarov(row['possible_rxns']), axis=1)\n",
    "print(f\"\"\"{len([x for x in df_reaxys_mp_AE_rxn['possible_rxns_verified'].to_list() if len(x) > 1])} reactions have multiple undecided outcomes\"\"\")\n",
    "df_reaxys_mp_AE_rxn['possible_rxns_verified']"
   ]
  },
  {
   "cell_type": "markdown",
   "metadata": {},
   "source": [
    "## 2.4) Remove Diasteroselectivity To Decide Undecided Reactions\n",
    "Some reactions have had multiple possible reactions detected. To filter these, it can make sense to remove Diasteroselectivity. If stereochemistry is a must for EVERY reaction, then skip this part."
   ]
  },
  {
   "cell_type": "code",
   "execution_count": null,
   "metadata": {},
   "outputs": [],
   "source": [
    "def remove_stereo(possible_rxns:str):\n",
    "    \"\"\"If multiple products, return a unique list of reaction SMILES with chirality tags removed\"\"\"\n",
    "    if len(possible_rxns) <= 1:\n",
    "        return possible_rxns\n",
    "    possible_rxns_noStereo = []\n",
    "    for rxn in possible_rxns:\n",
    "        reactants,products = rxn.split('>>')\n",
    "        possible_rxns_noStereo.append(f'{Chem.MolToSmiles(Chem.MolFromSmiles(reactants),isomericSmiles=False)}>>{Chem.MolToSmiles(Chem.MolFromSmiles(products),isomericSmiles=False)}')\n",
    "    return list(set(possible_rxns_noStereo))\n",
    "\n",
    "df_reaxys_mp_AE_rxn_noSte = copy.copy(df_reaxys_mp_AE_rxn)\n",
    "df_reaxys_mp_AE_rxn_noSte['possible_rxns_verified'] = df_reaxys_mp_AE_rxn_noSte.apply (lambda row: remove_stereo(row['possible_rxns_verified']), axis=1)\n",
    "print(f\"\"\"{len([x for x in df_reaxys_mp_AE_rxn_noSte['possible_rxns_verified'].to_list() if len(x) > 1])} reactions have multiple undecided outcomes even after removing stereo\"\"\")\n",
    "df_reaxys_mp_AE_rxn_noSte.to_csv('tempfiles/df_reaxys_mp_AE_rxn_noSte.csv',index=False)\n",
    "df_reaxys_mp_AE_rxn_noSte['possible_rxns_verified']"
   ]
  },
  {
   "cell_type": "markdown",
   "metadata": {},
   "source": [
    "# 3) Return conditions leading to highest yield and eliminate RXIDs where the reactants or products of the possible reactions differ beyond stereochemistry alone (aka: check that repeat RXIDs do not have different rxns)"
   ]
  },
  {
   "cell_type": "code",
   "execution_count": null,
   "metadata": {
    "scrolled": true
   },
   "outputs": [],
   "source": [
    "def get_clean_rxn_list(rxn_list:list):\n",
    "    \"\"\"Return a list of reaction SMILES that have been sanitized\"\"\"\n",
    "    if len(rxn_list) > 1 or len(rxn_list) == 0:\n",
    "        return ''\n",
    "    reactants,products = rxn_list[0].split('>>')\n",
    "    return f'{clean_smiles(reactants)}>>{clean_smiles(products)}'\n",
    "\n",
    "def get_best_conditions(possible_rxns:list,yields:list):\n",
    "    \"\"\"Return index of the best reaction conditions\"\"\"\n",
    "    if len(set([y for x in possible_rxns for y in x])) >1: ## If there are multiple different reactions for a RXID, check these manually\n",
    "        return False\n",
    "    if set([y for x in possible_rxns for y in x])==set(()):\n",
    "        return 'Invalid'\n",
    "    max_yields = [max(x) for x in yields]\n",
    "    return max_yields.index(max(max_yields)) \n",
    "\n",
    "def get_sole_rxn(possible_rxns:list):\n",
    "    \"\"\"Check a list of reaction SMILES and ensure that they represent the same reaction\n",
    "    even if some do not contain stereochemistry. Return the common reaction with chirality\n",
    "    if possible.\"\"\"\n",
    "    rxns = list(set([y for x in possible_rxns for y in x]))\n",
    "    if len(rxns) ==1: ## If there are multiple different reactions for a RXID, check these manually\n",
    "        return rxns[0]\n",
    "    elif len(set([x.split('>>')[0].replace('@','') for x in rxns])) != 1: ### check if non-stereo reactants are identical\n",
    "        return False\n",
    "    elif len(set([x.split('>>')[1].replace('@','') for x in rxns])) != 1: ## check if non-stereo products are identical\n",
    "        return False ## if products differ in anything other than regio chemistry, return false\n",
    "    elif len(set([x for x in rxns if '@' in x])) ==1:\n",
    "        return list(set([x for x in rxns if '@' in x]))[0]\n",
    "    else: ## 2 different stereochemistries are reported\n",
    "        return 'Differing_Stereochemistry'\n",
    "\n",
    "def get_condition(condition:str,index):\n",
    "    \"\"\"Return the best reaction conditions according to the index identified in get_best_conditions()\"\"\"\n",
    "    if type(index) is int:\n",
    "        return [max(x) for x in condition][index]\n",
    "    else:\n",
    "        return ''\n",
    "\n",
    "df_reaxys_mp_AE_rxn_noSte_noRe = copy.copy(df_reaxys_mp_AE_rxn_noSte)\n",
    "\n",
    "### Take reaction details for reaction with highest yield per rxid\n",
    "rxn_detail_dic_ls = []\n",
    "for col in list(df_reaxys_mp_AE_rxn_noSte_noRe.columns.values):\n",
    "    rxn_detail_dic_ls.append(df_reaxys_mp_AE_rxn_noSte_noRe.groupby('Reaction ID')[col].apply(list).to_dict())\n",
    "df_rxn_details_red = pd.DataFrame(rxn_detail_dic_ls)\n",
    "\n",
    "df_reaxys_mp_AE_rxn_noSte['possible_rxns_verified'] = df_reaxys_mp_AE_rxn_noSte.apply (lambda row: remove_stereo(row['possible_rxns_verified']), axis=1)\n",
    "\n",
    "### Combine each dataentry by its RXID\n",
    "rxn_details_col_dic = {x:list(df_reaxys_mp_AE_rxn_noSte_noRe.columns.values)[x] for x in range(0,46)}\n",
    "df_rxn_details_red_trans = df_rxn_details_red.transpose()\n",
    "df_rxn_details_red_trans = df_rxn_details_red_trans.rename(columns=rxn_details_col_dic)\n",
    "df_rxn_details_red_trans = df_rxn_details_red_trans.reset_index(drop=True)\n",
    "\n",
    "### Keep reactions with best conditions and yields\n",
    "df_rxn_details_red_trans['best_conditions'] = df_rxn_details_red_trans.apply (lambda row: get_best_conditions(row['possible_rxns_verified'],row['yield_list']), axis=1)\n",
    "df_rxn_details_red_trans['best_yield'] = df_rxn_details_red_trans.apply (lambda row: get_condition(row['yield_list'],row['best_conditions']), axis=1)\n",
    "df_rxn_details_red_trans['sole_rxn_ver_clean'] = df_rxn_details_red_trans.apply (lambda row: get_sole_rxn(row['possible_rxns_verified']), axis=1)\n",
    "df_rxn_details_red_trans.to_csv('tempfiles/df_rxn_details_red_trans.csv')\n",
    "verified_rxns = [x for x in df_rxn_details_red_trans['sole_rxn_ver_clean'].to_list() if x is not False and x is not 'Differing_Stereochemistry']\n",
    "print(f'There are {len(verified_rxns)} reactions, {len(set(verified_rxns))} of which are unique')\n",
    "df_rxn_details_red_trans"
   ]
  },
  {
   "cell_type": "markdown",
   "metadata": {},
   "source": [
    "# 4) Remove RXIDs with repeat products\n",
    "Some reactions that have been identified will turn out to be non-unique and need to be labelled such. The ID with the highest yield will be regarded as the True value"
   ]
  },
  {
   "cell_type": "code",
   "execution_count": null,
   "metadata": {
    "scrolled": true
   },
   "outputs": [],
   "source": [
    "def temp_change_noyields(yields):\n",
    "    \"\"\"If no yield is reported, return -10 so that it can be sorted out later\"\"\"\n",
    "    if yields == '':\n",
    "        return -10\n",
    "    else:\n",
    "        return yields\n",
    "\n",
    "df_rxn_details_red_trans_unique = copy.copy(df_rxn_details_red_trans)\n",
    "\n",
    "## Sort the dataframe by yield, this means that duplicates with lower yields can be dropped easily\n",
    "df_rxn_details_red_trans_unique['best_yield_SORTONLY'] = df_rxn_details_red_trans_unique.apply (lambda row: temp_change_noyields(row['best_yield']), axis=1)\n",
    "df_rxn_details_red_trans_unique = df_rxn_details_red_trans_unique.sort_values(by='best_yield_SORTONLY',ascending=False)\n",
    "\n",
    "print(df_rxn_details_red_trans_unique.shape)\n",
    "df_rxn_details_red_trans_unique = df_rxn_details_red_trans_unique.drop_duplicates(subset=['sole_rxn_ver_clean'])\n",
    "print(df_rxn_details_red_trans_unique.shape)\n",
    "df_rxn_details_red_trans_unique\n"
   ]
  },
  {
   "cell_type": "markdown",
   "metadata": {},
   "source": [
    "# 5) Drop unnessecary columns and send to CSV"
   ]
  },
  {
   "cell_type": "code",
   "execution_count": null,
   "metadata": {},
   "outputs": [],
   "source": [
    "def checkcomponent(rxn:str,component:int,banned_words=['Differing_Stereochemistry']):\n",
    "    \"\"\"Return component of reaction SMILES asumming nothing was flagged earlier\"\"\"\n",
    "    if type(rxn) != str or rxn in banned_words:\n",
    "        return False\n",
    "    if Chem.MolFromSmiles(rxn.split('>>')[component]) is None:\n",
    "        return False\n",
    "    return rxn.split('>>')[component]\n",
    "\n",
    "df_final = copy.copy(df_rxn_details_red_trans_unique)\n",
    "df_final = df_final.drop(['best_yield_SORTONLY','possible_rxns_verified','possible_rxns','major_product_clean','yield_list','rxn_clean_ReaxysOrder'],axis=1)\n",
    "\n",
    "### Add reactant and product column for ease of use later\n",
    "df_final['Reactant_clean'] = df_final.apply (lambda row: checkcomponent(row['sole_rxn_ver_clean'],0), axis=1)\n",
    "df_final['Product_clean'] = df_final.apply (lambda row: checkcomponent(row['sole_rxn_ver_clean'],1), axis=1)\n",
    "df_final['rxnID'] = df_final.apply (lambda row: row['Reaction ID'][0], axis=1)\n",
    "## export to csv\n",
    "df_final.to_csv('tempfiles/nazarov_uniqueRXNs.csv',index=False)\n"
   ]
  },
  {
   "cell_type": "markdown",
   "metadata": {},
   "source": [
    "# 6) Perform Atom-Mapping\n",
    "This should be done using an atom-mapping software such as RXNMapper. The resulting CSV should contain a column with atom-mapped reaction SMILES. This column should be named 'rxnsmilesMap'.\n"
   ]
  },
  {
   "cell_type": "markdown",
   "metadata": {},
   "source": [
    "# 7) Check Bond Changes"
   ]
  },
  {
   "cell_type": "code",
   "execution_count": null,
   "metadata": {},
   "outputs": [],
   "source": [
    "def rm_map_and_clean_smiles(smiles:str):\n",
    "    \"\"\"Removing any atom mapping from a SMILES string\"\"\"\n",
    "    my_mol = Chem.MolFromSmiles(smiles)\n",
    "    atomMap = \"molAtomMapNumber\"\n",
    "    for atom in my_mol.GetAtoms():\n",
    "        if atom.HasProp(atomMap):\n",
    "                atom.ClearProp(atomMap)\n",
    "    return Chem.MolToSmiles(Chem.MolFromSmiles(Chem.MolToSmiles(my_mol)))\n",
    "\n",
    "\n",
    "def detect_bond_changes(rmol:Mol,pmol:Mol):\n",
    "    \"\"\"Return a dictionary containing the atoms changing in a reaction.\n",
    "    Atoms need to be mapped.\"\"\"\n",
    "    atom_changes = {}\n",
    "    for n,atom in enumerate(rmol.GetAtoms()):\n",
    "        ratom = {f'{sorted([x.GetBeginAtom().GetAtomMapNum(),x.GetEndAtom().GetAtomMapNum()])}':str(x.GetBondType()) for x in atom.GetBonds()}\n",
    "        patom = {f'{sorted([x.GetBeginAtom().GetAtomMapNum(),x.GetEndAtom().GetAtomMapNum()])}':str(x.GetBondType()) for x in pmol.GetAtomWithIdx(atom.GetAtomMapNum()).GetBonds()}\n",
    "        ### if the bond types and atoms involved in bonds change for an atom, record this in a dictionary of atom changes\n",
    "        if sorted(ratom.keys()) != sorted(patom.keys()):\n",
    "            atom_changes[pmol.GetAtomWithIdx(atom.GetAtomMapNum()).GetAtomMapNum()] = patom\n",
    "            continue\n",
    "        if sorted(ratom.values()) != sorted(patom.values()):\n",
    "            atom_changes[pmol.GetAtomWithIdx(atom.GetAtomMapNum()).GetAtomMapNum()] = patom\n",
    "            continue\n",
    "    return atom_changes\n",
    "\n",
    "def identify_RC_overlap(rmol:Mol,pmol:Mol,atom_changes:dict,substructSMARTS:str='[C,c]=[C,c]-[C,c](-[C,c]=[C,c])=[O]'): \n",
    "    \"\"\"Identify possible reaction centres and verify these by ensuring that the reaction centres\n",
    "    contain at least 4 atoms that are undergoing changes during the reaction. \n",
    "    Returns a list of viable reaction centres.\"\"\"\n",
    "    possible_rcs = [[y for y in x] for x in rmol.GetSubstructMatches(Chem.MolFromSmarts(substructSMARTS))] \n",
    "    \n",
    "    ### For each of the possible reaction centres, verify that the bonding is correct. \n",
    "    ### Note: this assumes a divinyl ketone bonding pattern\n",
    "    valid_possible_rcs = [] \n",
    "    for rc in possible_rcs: \n",
    "        if rmol.GetBondBetweenAtoms(rc[0],rc[-2]) is None:\n",
    "            rc_bond_list = [rmol.GetBondBetweenAtoms(rc[x],rc[x-5]) for x in range(0,4)] \n",
    "            rc_bond_list += [rmol.GetBondBetweenAtoms(rc[2],rc[-1])]\n",
    "            if None in rc_bond_list:\n",
    "                rc_bond_list.remove(None)\n",
    "            if len(rc_bond_list) == 5:\n",
    "                valid_possible_rcs.append(rc)\n",
    "    valid_possible_rcs = [[rmol.GetAtomWithIdx(y).GetAtomMapNum() for y in x] for x in valid_possible_rcs]\n",
    "\n",
    "    ### If atommapping has errors, this checks that the RCs found for the reactants does indeed match the products\n",
    "    ### The atom mapping in the reactants matches the atom indexes in the product\n",
    "    valid_possible_rcs_p = []\n",
    "    for rc in valid_possible_rcs:\n",
    "        if pmol.GetBondBetweenAtoms(rc[0],rc[-2]) is not None:\n",
    "            rc_bond_list = [pmol.GetBondBetweenAtoms(rc[x],rc[x-5]) for x in range(0,4)] \n",
    "            rc_bond_list += [pmol.GetBondBetweenAtoms(rc[2],rc[-1])]\n",
    "            if None in rc_bond_list:\n",
    "                rc_bond_list.remove(None)\n",
    "            if len(rc_bond_list) == 5:\n",
    "                valid_possible_rcs_p.append(rc)\n",
    "    ### Convert reaction centre atom list to a string and dictionary key. The value becomes the number of atoms in the\n",
    "    ### reaction centre that are undergoing a change according to atom mapping analysis.\n",
    "    overlap_rc = {','.join([str(y) for y in x]):len(set(x)-set(list(atom_changes.keys()))) for x in valid_possible_rcs_p}\n",
    "    ### Return reaction centres that have at least 4 atoms that are undergoing changes through the reaction\n",
    "    return [[int(x) for x in k.split(',')] for k,v in overlap_rc.items() if v == min(overlap_rc.values()) and v <=4]\n",
    "\n",
    "\n",
    "def get_likely_RCs(rxn:str,rxn_templates:list=['[C,c]=[C,c]-[C,c](-[C,c]=[C,c])=[O]','[C,c]:[C,c]-[C,c](-[C,c]=[C,c])=[O]','[C,c]=[C,c]-[C,c](-[C,c]:[C,c])=[O]','[C,c]:[C,c]-[C,c](-[C,c]:[C,c])=[O]']):\n",
    "    \"\"\"Taking a list of possible reaction centre bonding patterns, identify and verify these reaction centres.\n",
    "    Return a list containing these different reaction centres or a string if there are none\"\"\"\n",
    "    rsmiles,psmiles = rxn.split('>>')\n",
    "    rmol = Chem.MolFromSmiles(rsmiles)\n",
    "    pmol = Chem.MolFromSmiles(psmiles)\n",
    "    atom_changes = detect_bond_changes(rmol,pmol)\n",
    "    ### For each bonding pattern, identify viable and verified reaction ceentres\n",
    "    reaction_centres = []\n",
    "    for template in rxn_templates:\n",
    "        reaction_centres += identify_RC_overlap(rmol,pmol,atom_changes,substructSMARTS=template)\n",
    "    final_rc = {} ### remove repeats that are ordered in reverse: 1,2,3 == 3,2,1\n",
    "    for rc in reaction_centres:\n",
    "        if sorted(rc) not in list(final_rc.keys()):\n",
    "            final_rc[','.join([str(x) for x in sorted(rc)])] = rc\n",
    "    if len(final_rc)>0:\n",
    "        return list(final_rc.values())\n",
    "    else:\n",
    "        return 'No options'\n",
    "\n",
    "def get_atomchanges(rxn:str):\n",
    "    \"\"\"Return a list of atoms that undergo changes in a reaction\"\"\"\n",
    "    rsmiles,psmiles = rxn.split('>>')\n",
    "    rmol = Chem.MolFromSmiles(rsmiles)\n",
    "    pmol = Chem.MolFromSmiles(psmiles)\n",
    "    return list(detect_bond_changes(rmol,pmol).keys())\n"
   ]
  },
  {
   "cell_type": "code",
   "execution_count": null,
   "metadata": {
    "scrolled": true
   },
   "outputs": [],
   "source": [
    "df_rc = pd.read_csv('tempfiles/nazarov_RCs.csv')\n",
    "nazarov_templates = ['[C,c]=[C,c]-[C,c](-[C,c]=[C,c])=[O]','[C,c]:[C,c]-[C,c](-[C,c]=[C,c])=[O]','[C,c]=[C,c]-[C,c](-[C,c]:[C,c])=[O]','[C,c]:[C,c]-[C,c](-[C,c]:[C,c])=[O]']\n",
    "df_rc['reaction_centre_MAPatoms'] = df_rc.apply (lambda row: get_likely_RCs(row['rxnsmilesMap'],nazarov_templates), axis=1)\n",
    "df_rc['atomchanges'] = df_rc.apply (lambda row: get_atomchanges(row['rxnsmilesMap']), axis=1)\n",
    "\n",
    "df_rc.to_csv('outputfiles/nazarov_RCs.csv',index=False)"
   ]
  },
  {
   "cell_type": "markdown",
   "metadata": {},
   "source": [
    "# 8) Manual Identification\n",
    "#### The following 86 IDs must have their reaction centres found manually:\n",
    "[8643211, 9216076, 9216179, 9216342, 9216869, 9217005, 9217087, 9363890, 9487353, 9489938, 9618519, 11275489, 11275490, 11275497, 27934219, 29903574, 35300994, 35300995, 35300996, 35300997, 35300998, 35300999, 35301000, 35301001, 35791065, 37216716, 37216717, 37216718, 37216719, 37216720, 37226535, 37226538, 37226539, 37226540, 38104147, 41930398, 41930399, 41930400, 41930401, 41930402, 41930403, 41930405, 41930407, 41930408, 41930409, 41930411, 41930442, 41930443, 41930444, 41930445, 41930446, 41930447, 41930448, 41930451, 41930454, 42000161, 42000690, 43631701, 43631702, 45063873, 48760477, 48760480, 48760483, 48760485, 48760486, 48760487, 48760488, 48760489, 48760490, 48760493, 48760494, 48760495, 48760496, 48760497, 48760498, 49762243, 49762291, 51417000, 51417004, 51417008, 51417048, 51417050, 51417051, 56260136, 56887736, 60835617]"
   ]
  },
  {
   "cell_type": "code",
   "execution_count": null,
   "metadata": {},
   "outputs": [],
   "source": []
  }
 ],
 "metadata": {
  "kernelspec": {
   "display_name": "my-rdkit-env",
   "language": "python",
   "name": "my-rdkit-env"
  },
  "language_info": {
   "codemirror_mode": {
    "name": "ipython",
    "version": 3
   },
   "file_extension": ".py",
   "mimetype": "text/x-python",
   "name": "python",
   "nbconvert_exporter": "python",
   "pygments_lexer": "ipython3",
   "version": "3.9.4"
  }
 },
 "nbformat": 4,
 "nbformat_minor": 4
}
